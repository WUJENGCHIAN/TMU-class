{
  "nbformat": 4,
  "nbformat_minor": 0,
  "metadata": {
    "colab": {
      "provenance": []
    },
    "kernelspec": {
      "name": "python3",
      "display_name": "Python 3"
    },
    "language_info": {
      "name": "python"
    }
  },
  "cells": [
    {
      "cell_type": "markdown",
      "source": [
        "這段程式碼是利用處理好的output.csv檔案 \\\n",
        "進行KNN的學習使用，其中的演算方法如下：\\\n",
        "1.擷取出資料的特徵部分（去掉names跟output）\\\n",
        "2.進行資料的標準化（採用方法：設定標準差為1、平均為0 \\\n",
        "3.將標準化後的資料進行挖空，並儲存挖出來的值最後答案\\\n",
        "4.製作距離矩陣，計算挖空後的資料中，compound間的距離\\\n",
        "5.利用KNN去評估挖空出來的值\\\n",
        "6.評估模型\n",
        "\n"
      ],
      "metadata": {
        "id": "NtFkuSBkh9ak"
      }
    },
    {
      "cell_type": "code",
      "execution_count": 1,
      "metadata": {
        "colab": {
          "base_uri": "https://localhost:8080/"
        },
        "id": "t_uW8Q0x71tp",
        "outputId": "61a911a9-ef84-4eff-b86f-85ca3e437390"
      },
      "outputs": [
        {
          "output_type": "stream",
          "name": "stdout",
          "text": [
            "Collecting rdkit\n",
            "  Downloading rdkit-2023.3.3-cp310-cp310-manylinux_2_17_x86_64.manylinux2014_x86_64.whl (29.7 MB)\n",
            "\u001b[2K     \u001b[90m━━━━━━━━━━━━━━━━━━━━━━━━━━━━━━━━━━━━━━━━\u001b[0m \u001b[32m29.7/29.7 MB\u001b[0m \u001b[31m41.7 MB/s\u001b[0m eta \u001b[36m0:00:00\u001b[0m\n",
            "\u001b[?25hCollecting padelpy\n",
            "  Downloading padelpy-0.1.14-py2.py3-none-any.whl (20.9 MB)\n",
            "\u001b[2K     \u001b[90m━━━━━━━━━━━━━━━━━━━━━━━━━━━━━━━━━━━━━━━━\u001b[0m \u001b[32m20.9/20.9 MB\u001b[0m \u001b[31m54.9 MB/s\u001b[0m eta \u001b[36m0:00:00\u001b[0m\n",
            "\u001b[?25hRequirement already satisfied: numpy in /usr/local/lib/python3.10/dist-packages (from rdkit) (1.23.5)\n",
            "Requirement already satisfied: Pillow in /usr/local/lib/python3.10/dist-packages (from rdkit) (9.4.0)\n",
            "Installing collected packages: padelpy, rdkit\n",
            "Successfully installed padelpy-0.1.14 rdkit-2023.3.3\n"
          ]
        }
      ],
      "source": [
        "#套件下載\n",
        "!pip install rdkit padelpy\n",
        "from tqdm import tqdm\n",
        "from sklearn import decomposition\n",
        "from rdkit import Chem\n",
        "from rdkit.Chem import Descriptors\n",
        "from padelpy import from_smiles\n",
        "import pandas as pd\n",
        "from sklearn.decomposition import PCA\n",
        "from sklearn.preprocessing import StandardScaler\n",
        "import numpy as np\n",
        "from sklearn.metrics.pairwise import pairwise_distances"
      ]
    },
    {
      "cell_type": "code",
      "source": [
        "#讀取資料的特徵部分\n",
        "data = pd.read_csv('output.csv')\n",
        "data_charcteristic = data.iloc[:,3:]\n",
        "\n",
        "#去除有NAN值的所有compound\n",
        "data_cleaned = data_charcteristic.dropna()\n",
        "\n",
        "#資料標準化\n",
        "scaler = StandardScaler()\n",
        "data_cleaned = scaler.fit_transform(data_cleaned)\n",
        "columns = data_charcteristic.columns[:]\n",
        "data_cleaned_df = pd.DataFrame(data_cleaned, columns=columns)"
      ],
      "metadata": {
        "colab": {
          "base_uri": "https://localhost:8080/"
        },
        "id": "qhR91LDE8LBw",
        "outputId": "7c7a2cb0-84d8-4881-b80b-5f2dced1ec16"
      },
      "execution_count": 2,
      "outputs": [
        {
          "output_type": "stream",
          "name": "stderr",
          "text": [
            "<ipython-input-2-5d4d3af8f4e6>:2: DtypeWarning: Columns (1147) have mixed types. Specify dtype option on import or set low_memory=False.\n",
            "  data = pd.read_csv('output.csv')\n"
          ]
        }
      ]
    },
    {
      "cell_type": "code",
      "source": [
        "# 定義要挖的空格比例（5%）\n",
        "missing_percentage = 0.05\n",
        "\n",
        "# 計算要挖的總數\n",
        "total_missing = int(np.prod(data_cleaned_df.shape) * missing_percentage)\n",
        "\n",
        "# 在資料中隨機選擇要挖空格的位置\n",
        "missing_indices = np.random.choice(np.arange(np.prod(data_cleaned_df.shape)), total_missing, replace=False)\n",
        "missing_indices = np.sort(missing_indices)\n",
        "\n",
        "# 將選擇的位置設為缺失值\n",
        "data_flattened = data_cleaned_df.values.flatten('F')\n",
        "data_flattened[missing_indices] = np.nan\n",
        "\n",
        "# 紀錄挖出來的值\n",
        "missing_values = data_cleaned_df.values.flatten('F')[missing_indices]\n",
        "\n",
        "# 將資料還原為原始形狀\n",
        "data_with_missing = pd.DataFrame(data_flattened.reshape(data_cleaned_df.shape,order='F'), columns=data_cleaned_df.columns)\n"
      ],
      "metadata": {
        "id": "hMNO_XOnExLP"
      },
      "execution_count": 3,
      "outputs": []
    },
    {
      "cell_type": "code",
      "source": [
        "# 建立計算分子間距離的演算法\n",
        "def cal_distance(data1, data2):\n",
        "    # 找出共同的非 NaN 特徵\n",
        "    common_features = set(data1.dropna().index) & set(data2.dropna().index)\n",
        "\n",
        "    if common_features:\n",
        "        # 將共同特徵轉換為列表\n",
        "        common_features_list = list(common_features)\n",
        "        # 計算差值並取平均\n",
        "        differences = data1[common_features_list] - data2[common_features_list]\n",
        "        distance = differences.abs().mean()\n",
        "        return distance\n",
        "    else:\n",
        "        return np.nan  # 如果沒有共同的非 NaN 特徵，距離為 NaN\n",
        "\n"
      ],
      "metadata": {
        "id": "8jmfbx1yTQdk"
      },
      "execution_count": 4,
      "outputs": []
    },
    {
      "cell_type": "code",
      "source": [
        "#建立兩兩compound間距離的矩陣\n",
        "num_samples = len(data_with_missing)\n",
        "distances_matrix = np.zeros((num_samples, num_samples))\n",
        "\n",
        "for i in tqdm(range(num_samples)):\n",
        "    for j in range(i+1,num_samples):\n",
        "        distances_matrix[i, j] = cal_distance(data_with_missing.iloc[i], data_with_missing.iloc[j])\n",
        "distances_matrix += distances_matrix.T\n",
        "\n",
        "np.savetxt('distances_matrix.txt', distances_matrix)\n",
        "#讀取方式：distances_matrix = np.loadtxt('distances_matrix.txt')"
      ],
      "metadata": {
        "colab": {
          "base_uri": "https://localhost:8080/"
        },
        "id": "T9fq3chAh861",
        "outputId": "26584cbd-f144-42ba-98f6-b3093ede7326"
      },
      "execution_count": 5,
      "outputs": [
        {
          "output_type": "stream",
          "name": "stderr",
          "text": [
            "100%|██████████| 751/751 [19:38<00:00,  1.57s/it]\n"
          ]
        }
      ]
    },
    {
      "cell_type": "code",
      "source": [
        "#找出每個compound最接近的num個index\n",
        "num = 6\n",
        "sorted_indices = np.argsort(distances_matrix, axis=1)\n",
        "top_indices = sorted_indices[:, 1:num+1]"
      ],
      "metadata": {
        "id": "2G9bWVNu3T3b"
      },
      "execution_count": 6,
      "outputs": []
    },
    {
      "cell_type": "code",
      "source": [
        "# 遍歷每個feature找出NAN的值\n",
        "predict = []\n",
        "\n",
        "for feature in data_with_missing.columns:\n",
        "\n",
        "    nan_indices = data_with_missing.index[data_with_missing[feature].isna()].tolist()\n",
        "\n",
        "    for index in nan_indices:\n",
        "        # 獲取最接近的 num 個 index 對應的特徵值\n",
        "        values = data_with_missing.loc[top_indices[index], feature]\n",
        "        # 計算總和（忽略 NaN 值）\n",
        "        total = values.sum(skipna=True)\n",
        "        # 計算有效值的個數\n",
        "        count = values.count()\n",
        "        # 計算平均值作為代表，放到預測結果中\n",
        "        predict.append(total / count)\n"
      ],
      "metadata": {
        "id": "wwQPXoe4jHTz"
      },
      "execution_count": 7,
      "outputs": []
    },
    {
      "cell_type": "markdown",
      "source": [],
      "metadata": {
        "id": "JGoKaJmuNj9U"
      }
    },
    {
      "cell_type": "code",
      "source": [
        "#評估預測結果\n",
        "predict = np.array(predict)\n",
        "missing_values = np.array(missing_values)\n",
        "squared_errors = (predict - missing_values) ** 2\n",
        "mse = np.mean(squared_errors)\n",
        "rmse = np.sqrt(mse)\n",
        "\n",
        "print(rmse)"
      ],
      "metadata": {
        "colab": {
          "base_uri": "https://localhost:8080/"
        },
        "id": "sMMxL-2nKp6Q",
        "outputId": "1ff30a7f-56fa-4913-f9b3-4f0e3f208457"
      },
      "execution_count": 15,
      "outputs": [
        {
          "output_type": "stream",
          "name": "stdout",
          "text": [
            "0.6083929013561303\n"
          ]
        }
      ]
    },
    {
      "cell_type": "code",
      "source": [
        "#儲存距離矩陣、預測結果、原始挖空值、data_with_missing\n",
        "np.savetxt('distances_matrix.txt', distances_matrix)\n",
        "np.savetxt('predict.txt', predict)\n",
        "np.savetxt('missing_values.txt', missing_values)\n",
        "data_with_missing.to_csv('data_with_missing.csv', index=False)\n",
        "data_cleaned_df.to_csv('data_cleaned_df.csv', index=False)"
      ],
      "metadata": {
        "id": "6cPijo6rjthX"
      },
      "execution_count": 18,
      "outputs": []
    }
  ]
}