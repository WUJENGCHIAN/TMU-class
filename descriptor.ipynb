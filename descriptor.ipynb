{
  "nbformat": 4,
  "nbformat_minor": 0,
  "metadata": {
    "colab": {
      "provenance": []
    },
    "kernelspec": {
      "name": "python3",
      "display_name": "Python 3"
    },
    "language_info": {
      "name": "python"
    }
  },
  "cells": [
    {
      "cell_type": "code",
      "source": [
        "!pip install rdkit padelpy"
      ],
      "metadata": {
        "id": "GMnKmYztXlmn"
      },
      "execution_count": null,
      "outputs": []
    },
    {
      "cell_type": "code",
      "source": [
        "from tqdm import tqdm\n",
        "from rdkit import Chem\n",
        "from rdkit.Chem import Descriptors\n",
        "from padelpy import from_smiles"
      ],
      "metadata": {
        "id": "HIiY0bhNXrIM"
      },
      "execution_count": 29,
      "outputs": []
    },
    {
      "cell_type": "code",
      "execution_count": 30,
      "metadata": {
        "id": "yrA7St9DSHK2"
      },
      "outputs": [],
      "source": [
        "import pandas as pd\n",
        "\n",
        "# 指定Excel檔案的路徑\n",
        "excel_file_path = '/content/CNSData(940).xlsx'\n",
        "\n",
        "# 使用Pandas的read_excel函數讀取Excel檔案\n",
        "rawdata = pd.read_excel(excel_file_path)\n"
      ]
    },
    {
      "cell_type": "code",
      "source": [
        "#取出name、smiles和output，預計作為最終result\n",
        "data = rawdata[[\"name\", \"smiles\",\"output\"]]\n",
        "\n",
        "#單獨取出smiles\n",
        "allsmiles = data.loc[:,\"smiles\"]\n",
        "\n",
        "#先找出key有哪些\n",
        "descriptors_first = from_smiles(allsmiles[0])\n"
      ],
      "metadata": {
        "id": "CbddJTq9Z2HA"
      },
      "execution_count": null,
      "outputs": []
    },
    {
      "cell_type": "code",
      "source": [
        "#先把column名字放進去，預設值為0\n",
        "names_descriptors = list(descriptors_first.keys())\n",
        "for i in range(len(names_descriptors)):\n",
        "  data[names_descriptors[i]] = 0\n",
        "\n"
      ],
      "metadata": {
        "id": "2RkVgYBqmBPU"
      },
      "execution_count": null,
      "outputs": []
    },
    {
      "cell_type": "code",
      "source": [
        "#迭代每一筆資料\n",
        "for j in tqdm(range(data.shape[0])):\n",
        "  smile = data.loc[j,\"smiles\"]\n",
        "  descriptor = from_smiles(smile)\n",
        "  value = list(descriptor.values())\n",
        "\n",
        "  for k in range(len(names_descriptors)) :\n",
        "    data.loc[j,names_descriptors[k]] = value[k]\n",
        "\n",
        "#注意：data.loc[917](第918筆資料)跑不出來，所以全為0"
      ],
      "metadata": {
        "id": "MX9tQ8mSpDdM"
      },
      "execution_count": null,
      "outputs": []
    },
    {
      "cell_type": "code",
      "source": [
        "#匯出變成excel檔案\n",
        "data.to_excel('output.xlsx', index=True)"
      ],
      "metadata": {
        "id": "JhDPdMJDr784"
      },
      "execution_count": null,
      "outputs": []
    }
  ]
}